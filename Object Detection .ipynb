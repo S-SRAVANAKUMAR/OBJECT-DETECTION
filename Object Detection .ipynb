{
 "cells": [
  {
   "cell_type": "code",
   "execution_count": null,
   "id": "554eb382",
   "metadata": {},
   "outputs": [],
   "source": [
    "import cv2"
   ]
  },
  {
   "cell_type": "code",
   "execution_count": null,
   "id": "1f5b91a8",
   "metadata": {},
   "outputs": [],
   "source": [
    "import matplotlib.pyplot as plt  "
   ]
  },
  {
   "cell_type": "code",
   "execution_count": null,
   "id": "eea88308",
   "metadata": {},
   "outputs": [],
   "source": [
    "config_file = \"ssd_mobilenet_v3_large_coco_2020_01_14.pbtxt\"\n",
    "frozen_model = \"frozen_inference_graph.pb\""
   ]
  },
  {
   "cell_type": "code",
   "execution_count": null,
   "id": "4925fa9d",
   "metadata": {},
   "outputs": [],
   "source": [
    "model = cv2.dnn_DetectionModel(frozen_model, config_file)"
   ]
  },
  {
   "cell_type": "code",
   "execution_count": null,
   "id": "dd5553f1",
   "metadata": {},
   "outputs": [],
   "source": [
    "classLabels = []\n",
    "file_name = \"Labels.txt\"\n",
    "with open (file_name,'rt') as fpt:\n",
    "    classLabels=fpt.read().rstrip('\\n').split('\\n')\n"
   ]
  },
  {
   "cell_type": "code",
   "execution_count": null,
   "id": "74558a6b",
   "metadata": {},
   "outputs": [],
   "source": [
    "print(classLabels)"
   ]
  },
  {
   "cell_type": "code",
   "execution_count": null,
   "id": "db686a11",
   "metadata": {},
   "outputs": [],
   "source": [
    "print(len(classLabels))"
   ]
  },
  {
   "cell_type": "code",
   "execution_count": null,
   "id": "20140160",
   "metadata": {},
   "outputs": [],
   "source": [
    "model.setInputSize(320,320)\n",
    "model.setInputScale(1.0/127.5) ##255/2=127.5\n",
    "model.setInputMean((127.5,127.5,127.5))\n",
    "model.setInputSwapRB(True)"
   ]
  },
  {
   "cell_type": "markdown",
   "id": "1b9f8e23",
   "metadata": {},
   "source": [
    "# read image"
   ]
  },
  {
   "cell_type": "code",
   "execution_count": null,
   "id": "a97d78b4",
   "metadata": {},
   "outputs": [],
   "source": [
    "img=cv2.imread(\"images.jpg\")"
   ]
  },
  {
   "cell_type": "code",
   "execution_count": null,
   "id": "9fcc04d8",
   "metadata": {},
   "outputs": [],
   "source": [
    "plt.imshow(img)"
   ]
  },
  {
   "cell_type": "code",
   "execution_count": null,
   "id": "28a19fa8",
   "metadata": {},
   "outputs": [],
   "source": [
    "plt.imshow(cv2.cvtColor(img,cv2.COLOR_BGR2RGB))"
   ]
  },
  {
   "cell_type": "code",
   "execution_count": null,
   "id": "934a11f0",
   "metadata": {},
   "outputs": [],
   "source": [
    "ClassIndex,confidence,bbox=model.detect(img,confThreshold=0.5)"
   ]
  },
  {
   "cell_type": "code",
   "execution_count": null,
   "id": "444c69b7",
   "metadata": {},
   "outputs": [],
   "source": [
    "print(ClassIndex)"
   ]
  },
  {
   "cell_type": "code",
   "execution_count": null,
   "id": "c9806a6e",
   "metadata": {},
   "outputs": [],
   "source": [
    "font_scale = 3\n",
    "font = cv2.FONT_HERSHEY_PLAIN\n",
    "for ClassInd, conf, boxes in zip(ClassIndex.flatten(),confidence.flatten(),bbox):\n",
    "    cv2.rectangle(img,boxes,(255,0,0),2)\n",
    "    cv2.putText(img,classLabels[ClassInd-1],(boxes[0]+10,boxes[1]+40),font,fontScale=font_scale,color=(0,255,0),thickness = 3)"
   ]
  },
  {
   "cell_type": "code",
   "execution_count": null,
   "id": "4de3a175",
   "metadata": {},
   "outputs": [],
   "source": [
    "plt.imshow(cv2.cvtColor(img,cv2.COLOR_BGR2RGB))"
   ]
  },
  {
   "cell_type": "markdown",
   "id": "47ce333f",
   "metadata": {},
   "source": [
    "# Video Demo"
   ]
  },
  {
   "cell_type": "code",
   "execution_count": null,
   "id": "17a540d1",
   "metadata": {},
   "outputs": [],
   "source": [
    "cap = cv2.VideoCapture(\"city test .mp4\")\n",
    "\n",
    "#check vid open crct?\n",
    "if not cap.isOpened():\n",
    "    cap=cv2.VideoCapture(0)\n",
    "if not cap.isOpened():\n",
    "    raise IOerror(\"Cannot open Video\")\n",
    "    \n",
    "font_scale = 1\n",
    "font = cv2.FONT_HERSHEY_COMPLEX_SMALL\n",
    "\n",
    "while True:\n",
    "    ret,frame = cap.read()\n",
    "    ClassIndex,confidence,bbox = model.detect(frame, confThreshold=0.55)\n",
    "    \n",
    "    print(ClassIndex)\n",
    "    if (len(ClassIndex)!=0):\n",
    "        for ClassInd, conf, boxes in zip(ClassIndex.flatten(),confidence.flatten(),bbox):\n",
    "            if (ClassInd<=80):\n",
    "                cv2.rectangle(frame,boxes,(255,0,0),2)\n",
    "                cv2.putText(frame,classLabels[ClassInd-1],(boxes[0]+10,boxes[1]+40),font,fontScale=font_scale,color=(0,255,0),thickness = 2)\n",
    "                \n",
    "    cv2.imshow(\"Object detection tutorial\",frame)\n",
    "    \n",
    "    if cv2.waitKey(2) & 0xFF == ord('q'):\n",
    "        break\n",
    "\n",
    "cap.release()\n",
    "cv2.destroyAllWindows() \n",
    "                \n",
    "        "
   ]
  }
 ],
 "metadata": {
  "kernelspec": {
   "display_name": "Python 3",
   "language": "python",
   "name": "python3"
  },
  "language_info": {
   "codemirror_mode": {
    "name": "ipython",
    "version": 3
   },
   "file_extension": ".py",
   "mimetype": "text/x-python",
   "name": "python",
   "nbconvert_exporter": "python",
   "pygments_lexer": "ipython3",
   "version": "3.8.8"
  }
 },
 "nbformat": 4,
 "nbformat_minor": 5
}
